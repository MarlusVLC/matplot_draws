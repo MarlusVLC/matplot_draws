{
 "cells": [
  {
   "cell_type": "code",
   "execution_count": 53,
   "metadata": {},
   "outputs": [],
   "source": [
    "import matplotlib\n",
    "import matplotlib.pyplot as plt\n",
    "import numpy as np\n",
    "import matplotlib.path as mpath\n",
    "import matplotlib.patches as patches\n",
    "\n",
    "Path = mpath.Path"
   ]
  },
  {
   "cell_type": "markdown",
   "metadata": {},
   "source": [
    "## -OPERACOES MATEMATICAS/\n",
    "\n",
    "\n"
   ]
  },
  {
   "cell_type": "code",
   "execution_count": 54,
   "metadata": {},
   "outputs": [
    {
     "name": "stdout",
     "output_type": "stream",
     "text": [
      "(801, 10)\n"
     ]
    }
   ],
   "source": [
    "# Soma de vetores\n",
    "# (n,m) + (a,b) = (n+a, n+b)  -> se (n,m) = v1 e (a,b) = v2, então (n+a, n+b) = v1+v2\n",
    "def somaVetor(vet1, vet2):\n",
    "    return tuple(map(lambda a,b: a+b, vet1,vet2))\n",
    "\n",
    "print (somaVetor([800,9],[1,1]))"
   ]
  },
  {
   "cell_type": "code",
   "execution_count": 55,
   "metadata": {},
   "outputs": [
    {
     "name": "stdout",
     "output_type": "stream",
     "text": [
      "(799, 8)\n"
     ]
    }
   ],
   "source": [
    "# Subtração de vetores\n",
    "# (n,m) - (a,b) = (n-a, n-b)  -> se (n,m) = v1 e (a,b) = v2, então (n-a, n-b) = v1-v2\n",
    "def subVetor(vet1, vet2):\n",
    "    return tuple(map(lambda a,b: a-b, vet1,vet2))\n",
    "\n",
    "print (subVetor([800,9],[1,1]))"
   ]
  },
  {
   "cell_type": "code",
   "execution_count": 56,
   "metadata": {},
   "outputs": [
    {
     "name": "stdout",
     "output_type": "stream",
     "text": [
      "(12, 36)\n"
     ]
    }
   ],
   "source": [
    "#Vetor por escalar\n",
    "# (n,m) * (k) = (n*k, m*k)   -> se (n,m) = v1, então (n*k, m*k) = v1*k\n",
    "def prodPorEscalar(vet1, fat):\n",
    "    return tuple(map(lambda a: a*fat, vet1))\n",
    "\n",
    "print (prodPorEscalar([4,12],3))"
   ]
  },
  {
   "cell_type": "code",
   "execution_count": 57,
   "metadata": {},
   "outputs": [
    {
     "data": {
      "text/plain": [
       "(0, 0.8)"
      ]
     },
     "execution_count": 57,
     "metadata": {},
     "output_type": "execute_result"
    }
   ],
   "source": [
    "#Equação Vetorial da Reta\n",
    "# r = Po + (t * u)   <-  Po = (n,m); t = (a,b); u = k.\n",
    "# r = (n,m) + ((a,b)*k)\n",
    "vetReta = lambda p, t: lambda u: somaVetor(p, prodPorEscalar(t,u))\n",
    "\n",
    "vetReta((0, 0.8), (0.2, 0.8))(1)\n",
    "vetReta((0,0.8),(-1,0))(0)\n",
    "    "
   ]
  },
  {
   "cell_type": "code",
   "execution_count": 58,
   "metadata": {},
   "outputs": [
    {
     "data": {
      "text/plain": [
       "<function __main__.<lambda>.<locals>.<lambda>(u)>"
      ]
     },
     "execution_count": 58,
     "metadata": {},
     "output_type": "execute_result"
    }
   ],
   "source": [
    "#Equação Vetorial-Paramétrica da Reta \n",
    "# r = Po + ((t - p) * u)   <-  Po = (n,m); t = (a,b); u = k.\n",
    "# r = (n,m) + (((a,b)-(n,m))*k)\n",
    "vetRetaP = lambda p, t: lambda u: somaVetor(p, prodPorEscalar(subVetor(t,p),u))\n",
    "\n",
    "vetRetaP((0, 0.8), (0.2, 0.8))\n",
    "vetRetaP((0,0.8),(-1,0))\n",
    " "
   ]
  },
  {
   "cell_type": "markdown",
   "metadata": {},
   "source": [
    "## DEFINIÇÃO DAS FORMAS - CURVS, RETAS, CIRCUNFERÊNCIAS, ELIPSES, ETC. \n",
    "##### A ordem é definida pelos indíces na imagem. "
   ]
  },
  {
   "cell_type": "code",
   "execution_count": 59,
   "metadata": {},
   "outputs": [],
   "source": [
    "### DEFINIÇÃO DOS PONTOS DE CURVAS E RETAS.\n",
    "#######A ORDEM ESTA DESCRITA NA IMAGEM!!!\n",
    "#Conferir a parte à qual pertence do carro pela imagem \"Índice - Carroceria\"\n",
    "\n",
    "#variáveis de prefixo 'r' são retas.\n",
    "    #por exemplo: r2 é reta r2 na imagem.\n",
    "#Variáveis de com prefixo C são curvas.\n",
    "    #por exemplo na variável C7_1x:\n",
    "        #7 é o indíce da curva (definido na imagem)\n",
    "        #1 é a posição do ponto na curva\n",
    "        #1 quer dizer que esse é o ponto do meio da curva; o ponto de controle.\n",
    "            #0 e 2 são, respectivamente, o primeiro e o último ponto da curva\n",
    "            #Normalmente o ponto 1 é relativo ao ponto 0 e 2 ao 1, mas isso pode variar\n",
    "            #Para funções cúbicas (que tem 4 pontos), o valor para seus pontos\n",
    "                #vai de 0 à 3, sendo 0 e 3 as extremidades e 1 e 2 os pontos de controle\n",
    "        #o ultimo elemento da variável pode ser x ou y, referente ao eixo que define o ponto\n",
    "\n",
    "#Parachoque-Traseiro, Baixo - Curva #1\n",
    "C1_0x = -0.1;          C1_0y = 0.4;   #Extremidade. Ponto 0 da curva. Seu vetor é (0.0, 0.4)\n",
    "C1_1x = -0.45;        C1_1y = 0.6; #Ponto de controle. Ponto 1 da curva. Afeta a curvatura. Seu vetor é (-0.45,0.6)\n",
    "C1_2x = -0.5;         C1_2y = 0.7; #Extremidade. Ponto 2 da curva. Seu vetor é (-0.5, 0.7)\n",
    "#1\n",
    "\n",
    "\n",
    "r2 = vetReta((C1_2x, C1_2y), (-0.01, 0.1)) #ParaChoque traseiro #2\n",
    "r3 = vetReta(r2(1), (0.04, 0.05)) #Farol traseiro #3\n",
    "r4 = vetReta(r3(1), (.05,0.3)) #Farol traseiro #4\n",
    "r5 = vetReta(r4(1), (-.04, 0.1)) #Acima do farol #5\n",
    "\n",
    "\n",
    "#Base do Aerofólio #6\n",
    "C6_0x = r5(1)[0];     C6_0y = r5(1)[1];\n",
    "C6_1x = C6_0x+0.23;   C6_1y = C6_0y-0.06; #As coordenadas desse ponto são relativa ao ponto anterior (C6_0)\n",
    "C6_2x = C6_1x+0.23;   C6_2y = C6_1y+0.06;\n",
    "#6\n",
    "\n",
    "#Teto-Lateral - Curva #7\n",
    "C7_0x = C6_2x;        C7_0y = C6_2y;\n",
    "C7_1x = C7_0x+1;      C7_1y = C7_0y+0.4;\n",
    "C7_2x = C7_1x+.5;     C7_2y = C7_1y-0.6;\n",
    "#7\n",
    "\n",
    "\n",
    "r8 = vetReta((C7_2x, C7_2y), (0.8,0)) #Capô #8\n",
    "\n",
    "\n",
    "#Capo-Farol Dianterio - Curva #9\n",
    "C9_0x = r8(1)[0];     C9_0y = r8(1)[1];\n",
    "C9_1x = C9_0x+1;      C9_1y = C9_0y-0.1;\n",
    "C9_2x = C9_1x+.3;     C9_2y = C9_1y-0.5;\n",
    "#9\n",
    "\n",
    "#Parachoque Dianteiro - Curva #10 \n",
    "C10_0x = C9_2x;       C10_0y = C9_2y;\n",
    "C10_1x = C10_0x-.1;   C10_1y = C10_0y-.001;\n",
    "C10_2x = C10_1x;      C10_2y = C10_1y-.15;\n",
    "#10\n",
    "\n",
    "\n",
    "# -.1 = -0.1\n",
    "r11 = vetReta((C10_2x, C10_2y), (0.1, -.001))  #Parachoque Dianteiro #11\n",
    "\n",
    "r12 = vetReta((r11(1)[0], r11(1)[1]), (-0.05, -0.05)) #Parachoque Dianteiro #12\n",
    "\n",
    "r13 = vetReta((r12(1)[0], r12(1)[1]), (-0.5, -0.01)) #Parachoque Dianteiro #13\n",
    "\n",
    "\n",
    "\n",
    "#Paralama dianteiro - Curva (Cúbica) #14\n",
    "C14_0x = r13(1)[0];   C14_0y = r13(1)[1];\n",
    "C14_1x = C14_0x;      C14_1y = C14_0y+0.6;\n",
    "C14_2x = C14_0x-0.8;  C14_2y = C14_0y+0.6;\n",
    "C14_3x = C9_0x;       C14_3y = C14_0y-.01;  #Alinhado com a interseção entra a reta 8 e a curva 9 (meio do capô)\n",
    "#14\n",
    "\n",
    "\n",
    "#reta r15 #Saia lateral\n",
    "r15 = vetRetaP((C14_3x, C14_3y), (C7_1x, C14_3y+.05))\n",
    "\n",
    "\n",
    "\n",
    "#Saia lateral #Curva #16\n",
    "C16_0x = r15(1)[0];    C16_0y = r15(1)[1];\n",
    "C16_1x = C16_0x-.1;   C16_1y = C1_0y+.02;\n",
    "C16_2x = C16_0x-.3;     C16_2y = C1_0y+.03;\n",
    "#16\n",
    "\n",
    "#Paralama traseiro - Curva (Cúbica) # 17\n",
    "C17_0x = C1_0x;       C17_0y = C1_0y;\n",
    "C17_1x = 0;             C17_1y = C14_1y+.01;\n",
    "C17_2x = 0.6;             C17_2y = C14_1y+.01;\n",
    "C17_3x = C16_2x;       C17_3y = C16_2y;\n",
    "#17\n",
    "\n",
    "\n",
    "#Pneu Dianteiro - Circunferência #18\n",
    "#18 - AUMENTAR A ESPESSURA NA HORA DE PLOTAR\n",
    "\n",
    "#Pneu Traseiro - Circunferência # 19\n",
    "#19 - AUMENTAR A ESPESSURA NA HORA DE PLOTAR\n",
    "\n",
    "\n",
    "\n",
    "### DEFINIÇÃO DOS PONTOS DE CURVAS E RETAS. \n",
    "\n"
   ]
  },
  {
   "cell_type": "markdown",
   "metadata": {},
   "source": [
    "## ORGANIZACÃO DAS RETAS PARA PLOTAGEM"
   ]
  },
  {
   "cell_type": "code",
   "execution_count": 60,
   "metadata": {},
   "outputs": [],
   "source": [
    "### DEFINIÇÃO DAS RETAS\n",
    "\n",
    "pontos = [r2,r3,r4,r5,r8,r11, r12, r13, r15] #Lista com todas as retas --- Coloque a variável das retas aqui.\n",
    "\n",
    "#Função que desenha os pontos da reta. Itera sobre a lista dada e plota cada uma das retas.\n",
    "def retasIntervaladas(pontos): \n",
    "    for r in pontos:\n",
    "        plt.plot([r(0)[0], r(1)[0]],\n",
    "                [r(0)[1], r(1)[1]],\n",
    "                color = 'r')\n",
    "\n",
    "\n",
    "\n",
    "\n",
    "\n",
    "\n",
    "        \n",
    "\n",
    "\n",
    "\n",
    "\n"
   ]
  },
  {
   "cell_type": "markdown",
   "metadata": {},
   "source": [
    "## ORGANIZAÇÃO DAS CURVAS QUADRÁTICAS PARA PLOTAGEM"
   ]
  },
  {
   "cell_type": "code",
   "execution_count": 61,
   "metadata": {},
   "outputs": [],
   "source": [
    "### DEFINIÇÃO DAS CURVAS QUADRÁTICAS\n",
    "verts = [(C1_0x, C1_0y), # P0\n",
    "         (C1_1x, C1_1y), # P1\n",
    "         (C1_2x, C1_2y), # P2\n",
    "         \n",
    "         (C6_0x, C6_0y), # P0\n",
    "         (C6_1x, C6_1y), # P1\n",
    "         (C6_2x, C6_2y), # P2\n",
    "         \n",
    "         (C7_0x, C7_0y), # P0\n",
    "         (C7_1x, C7_1y), # P1\n",
    "         (C7_2x, C7_2y), # P2\n",
    "         \n",
    "         (C9_0x, C9_0y), # P0\n",
    "         (C9_1x, C9_1y), # P1\n",
    "         (C9_2x, C9_2y), # P2\n",
    "         \n",
    "         (C10_0x, C10_0y), # P0\n",
    "         (C10_1x, C10_1y), # P1\n",
    "         (C10_2x, C10_2y), # P2\n",
    "         \n",
    "         (C16_0x, C16_0y), # P0\n",
    "         (C16_1x, C16_1y), # P1\n",
    "         (C16_2x, C16_2y), # P2\n",
    "         ] #Para a curva ser desenhada, seus pontos devem ser colocados nesta lista\n",
    "            #Coloque somente curvas quadradas (que tem 3 pontos)\n",
    "\n",
    "#Codes é uma lista de instruções do que fazer com cada ponto de verts\n",
    "codes = []\n",
    "for i in range(0,len(verts)):   #Essa função cria uma lista de codes baseado no tamanho de verts\n",
    "#     print (i, end=\" \")\n",
    "    if (i % 3 == 0 or i == 0):\n",
    "        codes.append(Path.MOVETO)\n",
    "#         print(\"a\")\n",
    "    else:\n",
    "        codes.append(Path.CURVE3)\n",
    "#         print(\"b\")\n"
   ]
  },
  {
   "cell_type": "markdown",
   "metadata": {},
   "source": [
    "## ORGANIZAÇÃO DAS CURVAS CÚBICAS"
   ]
  },
  {
   "cell_type": "code",
   "execution_count": 62,
   "metadata": {},
   "outputs": [],
   "source": [
    "### DEFINIÇÃO DAS CURVAS CÚBICAS\n",
    "\n",
    "#Lista somente com curvas cúbicas (de 4 pontos). Segue o mesmo padrão das quadráticas.\n",
    "cVerts = [(C14_0x, C14_0y), # P0\n",
    "          (C14_1x, C14_1y), # P1\n",
    "          (C14_2x, C14_2y), # P2\n",
    "          (C14_3x, C14_3y),  # P3\n",
    "          \n",
    "          (C17_0x, C17_0y), # P0\n",
    "          (C17_1x, C17_1y), # P1\n",
    "          (C17_2x, C17_2y), # P2\n",
    "          (C17_3x, C17_3y),  # P3\n",
    "         ]\n",
    "\n",
    "cCodes = []\n",
    "for i in range(0,len(cVerts)):\n",
    "#     print (i, end=\" \")\n",
    "    if (i % 4 == 0 or i == 0):\n",
    "        cCodes.append(Path.MOVETO)\n",
    "#         print(\"a\")\n",
    "    else:\n",
    "        cCodes.append(Path.CURVE4)\n",
    "#         print(\"b\")\n",
    "          \n",
    "\n",
    "cPath = Path(cVerts, cCodes)\n",
    "\n",
    "#JUNÇÃO DE QUADRÁTICAS E CÚBICAS\n",
    "\n",
    "verts += cVerts #Junta a lista de cúbicas com a de quadráticas\n",
    "codes += cCodes #Junt os comandos de quadráticas com as de cúbicas\n",
    "\n",
    "          \n",
    "### DEFINIÇÃO DAS CURVAS\n",
    "\n",
    "\n",
    "# print(codes)\n",
    "\n",
    "path = Path(verts, codes) # constroi o caminho das retas à partir dos vertices e dos comandos."
   ]
  },
  {
   "cell_type": "markdown",
   "metadata": {},
   "source": [
    "## PLOTAGEM DOS GRÁFICOS"
   ]
  },
  {
   "cell_type": "code",
   "execution_count": 63,
   "metadata": {},
   "outputs": [
    {
     "data": {
      "image/png": "[encoded data removed]",
      "text/plain": [
       "<Figure size 432x288 with 1 Axes>"
      ]
     },
     "metadata": {
      "needs_background": "light"
     },
     "output_type": "display_data"
    }
   ],
   "source": [
    "#Define características dos gráficos.\n",
    "#path define uma segmentação à partir de pontos.\n",
    "#facecolor define uma cor para à area das funcões\n",
    "#edgecolor define uma cor para as linhas.\n",
    "#lw é line-weight. Define a espessura das linhas\n",
    "patch = patches.PathPatch(path, facecolor='none',\n",
    "                         edgecolor='red', lw=2) \n",
    "\n",
    "\n",
    "ax = plt.gca();\n",
    "\n",
    "ax.add_patch(patch)\n",
    "\n",
    "#xs, ys = zip(*verts)\n",
    "\n",
    "ax.set_xlim(-.6, 4) #Define os limites no eixo x do gráfico. \n",
    "ax.set_ylim(-.2, 1.9) #Define os limites no ixo y do gráfico.\n",
    "ax.set_aspect(1) # 'auto'; 'equal'; number (equal = 1)\n",
    "# plt.plot([0,0], [2, 2], color = 'k')\n",
    "\n",
    "retasIntervaladas(pontos)\n",
    "\n",
    "\n",
    "\n",
    "plt.show()"
   ]
  },
  {
   "cell_type": "code",
   "execution_count": null,
   "metadata": {},
   "outputs": [],
   "source": []
  },
  {
   "cell_type": "code",
   "execution_count": null,
   "metadata": {},
   "outputs": [],
   "source": []
  },
  {
   "cell_type": "code",
   "execution_count": null,
   "metadata": {},
   "outputs": [],
   "source": []
  },
  {
   "cell_type": "code",
   "execution_count": null,
   "metadata": {},
   "outputs": [],
   "source": []
  },
  {
   "cell_type": "code",
   "execution_count": null,
   "metadata": {},
   "outputs": [],
   "source": []
  },
  {
   "cell_type": "code",
   "execution_count": null,
   "metadata": {},
   "outputs": [],
   "source": []
  },
  {
   "cell_type": "code",
   "execution_count": null,
   "metadata": {},
   "outputs": [],
   "source": []
  },
  {
   "cell_type": "code",
   "execution_count": null,
   "metadata": {},
   "outputs": [],
   "source": []
  },
  {
   "cell_type": "code",
   "execution_count": null,
   "metadata": {},
   "outputs": [],
   "source": []
  },
  {
   "cell_type": "code",
   "execution_count": null,
   "metadata": {},
   "outputs": [],
   "source": []
  },
  {
   "cell_type": "code",
   "execution_count": null,
   "metadata": {},
   "outputs": [],
   "source": []
  },
  {
   "cell_type": "code",
   "execution_count": null,
   "metadata": {},
   "outputs": [],
   "source": []
  },
  {
   "cell_type": "code",
   "execution_count": null,
   "metadata": {},
   "outputs": [],
   "source": []
  },
  {
   "cell_type": "code",
   "execution_count": null,
   "metadata": {},
   "outputs": [],
   "source": []
  },
  {
   "cell_type": "code",
   "execution_count": null,
   "metadata": {},
   "outputs": [],
   "source": []
  },
  {
   "cell_type": "code",
   "execution_count": null,
   "metadata": {},
   "outputs": [],
   "source": []
  },
  {
   "cell_type": "code",
   "execution_count": null,
   "metadata": {},
   "outputs": [],
   "source": []
  },
  {
   "cell_type": "code",
   "execution_count": null,
   "metadata": {},
   "outputs": [],
   "source": []
  },
  {
   "cell_type": "code",
   "execution_count": null,
   "metadata": {},
   "outputs": [],
   "source": []
  },
  {
   "cell_type": "code",
   "execution_count": null,
   "metadata": {},
   "outputs": [],
   "source": []
  },
  {
   "cell_type": "code",
   "execution_count": null,
   "metadata": {},
   "outputs": [],
   "source": []
  },
  {
   "cell_type": "code",
   "execution_count": null,
   "metadata": {},
   "outputs": [],
   "source": []
  },
  {
   "cell_type": "code",
   "execution_count": null,
   "metadata": {},
   "outputs": [],
   "source": []
  },
  {
   "cell_type": "code",
   "execution_count": null,
   "metadata": {},
   "outputs": [],
   "source": []
  }
 ],
 "metadata": {
  "kernelspec": {
   "display_name": "Python 3",
   "language": "python",
   "name": "python3"
  },
  "language_info": {
   "codemirror_mode": {
    "name": "ipython",
    "version": 3
   },
   "file_extension": ".py",
   "mimetype": "text/x-python",
   "name": "python",
   "nbconvert_exporter": "python",
   "pygments_lexer": "ipython3",
   "version": "3.8.3"
  }
 },
 "nbformat": 4,
 "nbformat_minor": 4
}
