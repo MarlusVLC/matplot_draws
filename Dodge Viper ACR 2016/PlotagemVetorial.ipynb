{
 "cells": [
  {
   "cell_type": "markdown",
   "metadata": {},
   "source": [
    "# Espaços Vetoriais"
   ]
  },
  {
   "cell_type": "code",
   "execution_count": 110,
   "metadata": {},
   "outputs": [],
   "source": [
    "using Luxor"
   ]
  },
  {
   "cell_type": "markdown",
   "metadata": {},
   "source": [
    "## Definições"
   ]
  },
  {
   "cell_type": "code",
   "execution_count": 111,
   "metadata": {},
   "outputs": [
    {
     "data": {
      "text/plain": [
       "60.0"
      ]
     },
     "execution_count": 111,
     "metadata": {},
     "output_type": "execute_result"
    }
   ],
   "source": [
    "l_diagrama = 300                       # largura do diagrama\n",
    "a_diagrama = floor(0.85*l_diagrama)    # altura do diagrama\n",
    "\n",
    "fface = \"DejaVu Sans\"                  # fontface\n",
    "fsize = 10                              # fontsize\n",
    "\n",
    "l_linha = 0.8                          # largura da linha\n",
    "\n",
    "l_retangulo = floor(l_diagrama / 4)    # largura dos retângulos\n",
    "a_retangulo = floor(0.4*l_retangulo)   # altura dos retângulos\n",
    "\n",
    "# ponto âncora: ponto a partir do qual o diagrama é calculado\n",
    "x = floor(l_diagrama / 4)              # ordenada do ponto âncora\n",
    "y = floor(0.5*x)                       # abscissa do ponto âncora\n",
    "ancora = Point(x, y)                   # ponto âncora\n",
    "\n",
    "sep_vertical = floor((4/5)*x)          # distância vertical entre os níveis das figuras\n",
    "#"
   ]
  },
  {
   "cell_type": "markdown",
   "metadata": {},
   "source": [
    "### Círculos"
   ]
  },
  {
   "cell_type": "code",
   "execution_count": 112,
   "metadata": {},
   "outputs": [
    {
     "data": {
      "image/png": "[encoded data removed]",
      "text/plain": []
     },
     "execution_count": 112,
     "metadata": {},
     "output_type": "execute_result"
    }
   ],
   "source": [
    "Drawing(300, 300, \"circulo.png\")\n",
    "\n",
    "# origin()\n",
    "setline(1)\n",
    "background(\"gray90\")\n",
    "sethue(\"black\")\n",
    "\n",
    "raio = 80      # raio do círculo\n",
    "frac = 1/50    # fração de π para particionamento da circunferência: 0 < frac ⩽ 1\n",
    "# π/4          # 45 graus em radianos\n",
    "\n",
    "# vetor de radianos para particionamento da circunferência\n",
    "t = [frac*π*i for i in 1:2/frac + 1]\n",
    "# (2/frac + 1) = (2π/(frac π) + 1)\n",
    "\n",
    "# poly([raio*Point(sin(t*frac*π), cos(t*frac*π)) for t in 1:150], :stroke)\n",
    "\n",
    "# Plotagem do círculo com centro em (0, 0): pontos discretos circularmente dispostos\n",
    "#   poly: polígono cujos lados ligam os pontos circularmente dispostos;\n",
    "#   a partir de uma certa quantidade de pontos, tem-se o efeito visual de um círculo\n",
    "poly(raio*Point.(sin.(t), cos.(t)), :stroke)\n",
    "\n",
    "# Translação do círculo acima por aplicação do vetor (150, 150):\n",
    "#   translação dos pontos seguida do desenho do polígono\n",
    "poly(map(p->Point(150, 150)+p, raio*Point.(sin.(t), cos.(t))), :stroke)\n",
    "\n",
    "# circle(Point(150, 150), 120, :stroke) # para verificação e controle\n",
    "\n",
    "finish()\n",
    "preview()"
   ]
  },
  {
   "cell_type": "markdown",
   "metadata": {},
   "source": [
    "### Funções de apoio"
   ]
  },
  {
   "cell_type": "code",
   "execution_count": 113,
   "metadata": {},
   "outputs": [
    {
     "data": {
      "text/plain": [
       "reta_ortogonal (generic function with 2 methods)"
      ]
     },
     "execution_count": 113,
     "metadata": {},
     "output_type": "execute_result"
    }
   ],
   "source": [
    "# raio*Point.(sin.(t), cos.(t))\n",
    "\n",
    "# definição de ponto com interface \"matemática\" para y\n",
    "MPoint = (x, y) -> Point(x, -y)\n",
    "\n",
    "function show_point(p::Point)\n",
    "  circle(p, l_diagrama/100, :fill)\n",
    "end\n",
    "\n",
    "function show_point(p::Point, raio::Float64)\n",
    "  circle(p, raio, :fill)\n",
    "end\n",
    "\n",
    "# plotagem dos eixos xy, dados os comprimentos sobre x e y\n",
    "function eixos(dim_x::Number, dim_y::Number)\n",
    "  setdash(\"dot\")\n",
    "  line(Point(-dim_x, 0), Point(dim_x, 0), :stroke)\n",
    "  line(Point(0, -dim_y), Point(0, dim_y), :stroke)\n",
    "  setdash(\"solid\")\n",
    "end\n",
    "\n",
    "# retorna um ponto sobre a circuferência de centro em pt\n",
    "function pt_sobre_circunferencia(pt::Point, raio::Number, radianos::Float64)::Point\n",
    "  return raio*Point(sin(radianos), cos(radianos))+pt\n",
    "end\n",
    "# pt_sobre_circunferencia(ponto, raio, radianos)\n",
    "\n",
    "# norma de um vetor\n",
    "function norma(p::Point)\n",
    "  return sqrt(p[1]^2 + p[2]^2)\n",
    "end\n",
    "\n",
    "# seno do ângulo de um vetor\n",
    "function sen_theta(p::Point)\n",
    "  return p[2]/norma(p)\n",
    "end\n",
    "\n",
    "# cosseno do ângulo de um vetor\n",
    "function cos_theta(p::Point)\n",
    "  return p[1]/norma(p)\n",
    "end\n",
    "\n",
    "function produto_por_escalar(escalar::Number, p::Point)\n",
    "  return Point(escalar*p[1], escalar*p[2])\n",
    "end\n",
    "\n",
    "function produto_escalar(p1::Point, p2::Point)::Number\n",
    "  return p1[1]*p2[1] + p2[2]*p2[2]\n",
    "end\n",
    "\n",
    "# o resultado é uma função em t\n",
    "# ao se atribuir um valor a t, o resultado é um vetor com extremidade sobre a reta p1 p2\n",
    "function reta_2_pontos(p1::Point, p2::Point)::Function\n",
    "  return (t)-> p1+(p2-p1)*t\n",
    "end\n",
    "\n",
    "# >>> vetores paralelos ao eixo x: a ortogonal não é uma função de x\n",
    "# >>> P(0, y)\n",
    "# reta ortogonal à extremidade de um vetor p (com centro na origem)\n",
    "# o resultado é uma função\n",
    "# ao se atribuir um valor a t, o resultado é um vetor com centro na origem\n",
    "function reta_ortogonal(p::Point)::Function\n",
    "  if p[2] == 0 return t->\"Funcão indefinida\" end\n",
    "  return (t)-> p + Point(1, -(p[1]/p[2])) * t\n",
    "end\n",
    "# reta_ortogonal(P)\n",
    "# reta_ortogonal(Point(10,-20))(0.5)\n",
    "\n",
    "# reta ortogonal à extremidade de um vetor p\n",
    "# situado na extremidade de um vetor p0\n",
    "# ou seja: reta ortogonal a p em p0+p\n",
    "# o resultado é uma função\n",
    "# ao se atribuir um valor a t, o resultado é um vetor com centro na origem\n",
    "function reta_ortogonal(p0::Point, p::Point)::Function\n",
    "  return (t)-> (p + Point(1, -(p[1]/p[2])) * t) + p0\n",
    "end\n",
    "# reta_ortogonal(p0, p1)\n",
    "# reta_ortogonal(p0, p1)(-13)\n",
    "#"
   ]
  },
  {
   "cell_type": "markdown",
   "metadata": {},
   "source": [
    "### Plotagem de vetores"
   ]
  },
  {
   "cell_type": "code",
   "execution_count": 114,
   "metadata": {},
   "outputs": [
    {
     "data": {
      "text/plain": [
       "plotVector"
      ]
     },
     "execution_count": 114,
     "metadata": {},
     "output_type": "execute_result"
    }
   ],
   "source": [
    "\"Plotagem de um vetor a partir da origem\"\n",
    "function plotVector(pt::Point)\n",
    "    line(O, pt, :stroke)\n",
    "    arrow(orig, pt, linewidth=0.5*l_linha, arrowheadangle = pi/7)\n",
    "end\n",
    "\n",
    "\"Plotagem de um vetor dadas a origem e a extremidade\"\n",
    "function plotVector(pt1::Point, pt2::Point)\n",
    "    line(pt1, pt2, :stroke)\n",
    "    arrow(pt1, pt2, linewidth=0.5*l_linha, arrowheadangle = pi/7)\n",
    "end"
   ]
  },
  {
   "cell_type": "code",
   "execution_count": 115,
   "metadata": {},
   "outputs": [
    {
     "data": {
      "text/plain": [
       "show_point (generic function with 2 methods)"
      ]
     },
     "execution_count": 115,
     "metadata": {},
     "output_type": "execute_result"
    }
   ],
   "source": [
    "plotPoint = show_point"
   ]
  },
  {
   "cell_type": "code",
   "execution_count": 116,
   "metadata": {},
   "outputs": [
    {
     "data": {
      "image/png": "[encoded data removed]",
      "text/plain": []
     },
     "execution_count": 116,
     "metadata": {},
     "output_type": "execute_result"
    }
   ],
   "source": [
    "# Drawing(450, 200, \"retas.png\")\n",
    "# Drawing(450, 200)\n",
    "Drawing(500, 400)\n",
    "\n",
    "origin()\n",
    "# eixos(180, 150)\n",
    "eixos(300, 300)\n",
    "orig = Point(0, 0)\n",
    "\n",
    "sethue(\"black\")\n",
    "\n",
    "p0 = MPoint(150, 80) # Point(150,-80)\n",
    "p1 = MPoint(-60, 70) # Point(-60, -70)\n",
    "\n",
    "# sethue(\"green\")\n",
    "p0x = MPoint(150, 0)\n",
    "# plotVector(p0x)\n",
    "\n",
    "# plotPoint(p0)\n",
    "# plotPoint(p1)\n",
    "\n",
    "plotVector(p0)\n",
    "# plotVector(1.3*p0) # (MPoint(150*1.3, 30*1.3))\n",
    "plotVector(1.5*p0) # (escVector(1.5, p0))\n",
    "plotVector(0.5*p0)\n",
    "# plotVector(p1, p0+p1)\n",
    "\n",
    "plotVector(p1)\n",
    "# plotVector(0.2*p1)\n",
    "\n",
    "sethue(\"blue\")\n",
    "# plotVector(p0+p1)\n",
    "\n",
    "sethue(\"red\")\n",
    "# plotVector(p1, p0+p1) #\n",
    "# plotVector(p0, p0+p1)\n",
    "\n",
    "sethue(\"green\")\n",
    "# plotVector(p0-p1)\n",
    "# plotVector(p1, p0) # (p1, p1 + (p0-p1))\n",
    "\n",
    "finish()\n",
    "preview()"
   ]
  },
  {
   "cell_type": "markdown",
   "metadata": {},
   "source": [
    "## Equação da Reta "
   ]
  },
  {
   "cell_type": "markdown",
   "metadata": {},
   "source": [
    "### Reta que passa por $p_0$ e é paralela a $t$"
   ]
  },
  {
   "cell_type": "code",
   "execution_count": 117,
   "metadata": {},
   "outputs": [
    {
     "data": {
      "image/png": "[encoded data removed]",
      "text/plain": []
     },
     "execution_count": 117,
     "metadata": {},
     "output_type": "execute_result"
    }
   ],
   "source": [
    "# Plotagem usando Luxor\n",
    "# Drawing(450, 200, \"retas.png\")\n",
    "# Drawing(450, 200)\n",
    "Drawing(600, 400)\n",
    "\n",
    "origin()\n",
    "# eixos(180, 150)\n",
    "eixos(300, 300)\n",
    "orig = Point(0, 0)\n",
    "\n",
    "sethue(\"black\")\n",
    "\n",
    "p0 = MPoint(80, 110) # Point(150,-80)\n",
    "t = MPoint(60, -50) # Point(-60, -70)\n",
    "\n",
    "plotVector(p0)\n",
    "plotVector(t)\n",
    "\n",
    "sethue(\"blue\")\n",
    "\n",
    "# plotVector(p0 + 3*t)\n",
    "# plotVector(p0, p0 + t) # múltiplos de t sobre a reta\n",
    "\n",
    "sethue(\"gray\")#(\"green\")\n",
    "\n",
    "# Plotagem de vetores\n",
    "# plotVector(p0, p0 - 0.5*t)\n",
    "# plotVector(p0, p0 + 0.5*t)\n",
    "# plotVector(p0, p0 + 1*t)\n",
    "# plotVector(p0, p0 + 1.5*t)\n",
    "# plotVector(p0, p0 + 2*t)\n",
    "# plotVector(p0, p0+2.5*t)\n",
    "\n",
    "#=\n",
    "plotVector(p0 + 0*t)\n",
    "plotVector(p0 + t)\n",
    "plotVector(p0 + 1.5*t)\n",
    "plotVector(p0 + 2*t)\n",
    "plotVector(p0 + 2.5*t)\n",
    "=#\n",
    "\n",
    "sethue(\"red\")\n",
    "# Plotagem dos pontos correspondentes\n",
    "\n",
    "#=\n",
    "plotPoint(p0+0*t)\n",
    "plotPoint(p0+1*t)\n",
    "plotPoint(p0 + 1.5*t)\n",
    "plotPoint(p0+2*t)\n",
    "plotPoint(p0+2.5*t)\n",
    "=#\n",
    "\n",
    "# Equação da reta que passa por p0 e é paralela a t\n",
    "p(u) = p0 + u*t\n",
    "\n",
    "# Exemplo de vetor p(u)\n",
    "# plotVector(p0+ 3*t)\n",
    "# plotVector(p(3))\n",
    "\n",
    "sethue(\"red\")\n",
    "\n",
    "# Plotagem de vários pontos\n",
    "\n",
    "for ui in [-1.5+n*0.1 for n in 1:55 ]\n",
    "   plotPoint(p(ui))\n",
    "end\n",
    "\n",
    "\n",
    "finish()\n",
    "preview()"
   ]
  },
  {
   "cell_type": "code",
   "execution_count": 118,
   "metadata": {},
   "outputs": [
    {
     "ename": "LoadError",
     "evalue": "syntax: space before \"(\" not allowed in \"((0, 0), (9, -3)) (\" at In[118]:1",
     "output_type": "error",
     "traceback": [
      "syntax: space before \"(\" not allowed in \"((0, 0), (9, -3)) (\" at In[118]:1",
      "",
      "Stacktrace:",
      " [1] top-level scope at In[118]:1",
      " [2] include_string(::Function, ::Module, ::String, ::String) at .\\loading.jl:1091"
     ]
    }
   ],
   "source": [
    "((0, 0), (9, -3))       (9, -3)"
   ]
  },
  {
   "cell_type": "code",
   "execution_count": 119,
   "metadata": {},
   "outputs": [
    {
     "ename": "LoadError",
     "evalue": "syntax: invalid assignment location \"5\" around In[119]:1",
     "output_type": "error",
     "traceback": [
      "syntax: invalid assignment location \"5\" around In[119]:1",
      "",
      "Stacktrace:",
      " [1] top-level scope at In[119]:1",
      " [2] include_string(::Function, ::Module, ::String, ::String) at .\\loading.jl:1091"
     ]
    }
   ],
   "source": [
    "(5, 2) = 5i + 2j"
   ]
  },
  {
   "cell_type": "code",
   "execution_count": 120,
   "metadata": {},
   "outputs": [
    {
     "data": {
      "text/plain": [
       "(0, 1)"
      ]
     },
     "execution_count": 120,
     "metadata": {},
     "output_type": "execute_result"
    }
   ],
   "source": [
    "i = (1, 0); j = (0, 1)"
   ]
  }
 ],
 "metadata": {
  "kernelspec": {
   "display_name": "Julia 1.5.0",
   "language": "julia",
   "name": "julia-1.5"
  },
  "language_info": {
   "file_extension": ".jl",
   "mimetype": "application/julia",
   "name": "julia",
   "version": "1.5.0"
  }
 },
 "nbformat": 4,
 "nbformat_minor": 4
}
