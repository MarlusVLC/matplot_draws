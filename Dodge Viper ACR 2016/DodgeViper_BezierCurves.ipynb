{
 "cells": [
  {
   "cell_type": "code",
   "execution_count": 15,
   "metadata": {},
   "outputs": [],
   "source": [
    "import matplotlib\n",
    "import matplotlib.pyplot as plt\n",
    "import numpy as np\n",
    "import matplotlib.path as mpath\n",
    "import matplotlib.patches as patches\n",
    "\n",
    "Path = mpath.Path"
   ]
  },
  {
   "cell_type": "markdown",
   "metadata": {},
   "source": [
    "### -OPERACOES MATEMATICAS/-\n",
    "\n"
   ]
  },
  {
   "cell_type": "code",
   "execution_count": 16,
   "metadata": {},
   "outputs": [
    {
     "name": "stdout",
     "output_type": "stream",
     "text": [
      "(801, 10)\n"
     ]
    }
   ],
   "source": [
    "# Soma de vetores\n",
    "def somaVetor(vet1, vet2):\n",
    "    return tuple(map(lambda a,b: a+b, vet1,vet2))\n",
    "\n",
    "print (somaVetor([800,9],[1,1]))"
   ]
  },
  {
   "cell_type": "code",
   "execution_count": 17,
   "metadata": {},
   "outputs": [
    {
     "name": "stdout",
     "output_type": "stream",
     "text": [
      "(12, 36)\n"
     ]
    }
   ],
   "source": [
    "#Vetor por escalar\n",
    "def prodPorEscalar(vet1, fat):\n",
    "    return tuple(map(lambda a: a*fat, vet1))\n",
    "\n",
    "print (prodPorEscalar([4,12],3))"
   ]
  },
  {
   "cell_type": "code",
   "execution_count": 18,
   "metadata": {},
   "outputs": [
    {
     "data": {
      "text/plain": [
       "(0, 0.8)"
      ]
     },
     "execution_count": 18,
     "metadata": {},
     "output_type": "execute_result"
    }
   ],
   "source": [
    "#Equação Vetorial da Reta\n",
    "vetReta = lambda p, t: lambda u: somaVetor(p, prodPorEscalar(t,u))\n",
    "\n",
    "vetReta((0, 0.8), (0.2, 0.8))(1)\n",
    "vetReta((0,0.8),(-1,0))(0)\n",
    "    "
   ]
  },
  {
   "cell_type": "markdown",
   "metadata": {},
   "source": [
    "### -/OPERACOES MATEMATICAS-"
   ]
  },
  {
   "cell_type": "code",
   "execution_count": 22,
   "metadata": {},
   "outputs": [],
   "source": [
    "pontos = []\n",
    "### DEFINIÇÃO DOS PONTOS DE CURVAS E RETAS.\n",
    "#######A ORDEM ESTA DESCRITA NA IMAGEM!!!\n",
    "\n",
    "#Parachoque-Traseiro, Baixo - Curva #1\n",
    "C1_0x = 0.0; C1_0y = 0.4;\n",
    "C1_1x = -0.45; C1_1y = 0.6;\n",
    "C1_2x = -0.5; C1_2y = 0.7;\n",
    "#1\n",
    "\n",
    "\n",
    "r2 = vetReta((C1_2x, C1_2y), (-0.01, 0.1)) #ParaChoque traseiro #2\n",
    "r3 = vetReta(r2(1), (0.04, 0.05)) #Farol traseiro #3\n",
    "r4 = vetReta(r3(1), (.05,0.3)) #Farol traseiro #4\n",
    "r5 = vetReta(r4(1), (-.04, 0.1)) #Acima do farol #5\n",
    "\n",
    "\n",
    "#Base do Aerofólio #6\n",
    "C6_0x = r5(1)[0]; C6_0y = r5(1)[1];\n",
    "C6_1x = C6_0x+0.23; C6_1y = C6_0y-0.06;\n",
    "C6_2x = C6_1x+0.23; C6_2y = C6_1y+0.06;\n",
    "#6\n",
    "\n",
    "#Teto-Lateral - Curva #7\n",
    "C7_0x = C6_2x; C7_0y = C6_2y;\n",
    "C7_1x = C7_0x+1; C7_1y = C7_0y+0.4;\n",
    "C7_2x = C7_1x+.5; C7_2y = C7_1y-0.6;\n",
    "#7\n",
    "\n",
    "\n",
    "r8 = vetReta((C7_2x, C7_2y), (0.8,0)) #Capô #8\n",
    "\n",
    "\n",
    "#Capo-Farol Dianterio - Curva #9\n",
    "C9_0x = r8(1)[0]; C9_0y = r8(1)[1];\n",
    "C9_1x = C9_0x+1; C9_1y = C9_0y-0.1;\n",
    "C9_2x = C9_1x+.3; C9_2y = C9_1y-0.5;\n",
    "#9\n",
    "\n",
    "#Parachoque Dianteiro - Curva #10 \n",
    "C10_0x = C9_2x; C10_0y = C9_2y;\n",
    "C10_1x = C10_0x-.1; C10_1y = C10_0y-.001;\n",
    "C10_2x = C10_1x; C10_2y = C10_1y-.15;\n",
    "#10\n",
    "\n",
    "\n",
    "\n",
    "r11 = vetReta((C10_2x, C10_2y), (0.1, -.1))  #Parachoque Dianteiro #11\n",
    "\n",
    "r12 = vetReta((r11(1)[0], r11(1)[1]), (-0.05, -0.05)) #Parachoque Dianteiro #12\n",
    "\n",
    "r13 = vetReta((r12(1)[0], r12(1)[1]), (-0.5, -0.01)) #Parachoque Dianteiro #13\n",
    "\n",
    "\n",
    "\n",
    "#Paralama dianteiro - Curva (Cúbica) #14\n",
    "C14_0x = r13(1)[0]; C14_0y = r13(1)[1];\n",
    "C14_1x = C14_0x; C14_1y = C14_0y+0.8;\n",
    "C14_2x = C14_0x-0.8; C14_2y = C14_0y+0.8;\n",
    "C14_3x = C14_0x-0.8; C14_3y = C14_0y;\n",
    "#14\n",
    "\n",
    "\n",
    "\n",
    "### DEFINIÇÃO DOS PONTOS DE CURVAS E RETAS. \n",
    "\n"
   ]
  },
  {
   "cell_type": "code",
   "execution_count": 23,
   "metadata": {},
   "outputs": [],
   "source": [
    "### DEFINICAO DAS RETAS\n",
    "\n",
    "\n",
    "pontos = [r2,r3,r4,r5,r8,r11, r12, r13]\n",
    "\n",
    "def retasIntervaladas(pontos):\n",
    "    for r in pontos:\n",
    "        plt.plot([r(0)[0], r(1)[0]],\n",
    "                [r(0)[1], r(1)[1]],\n",
    "                color = 'r')\n",
    "\n",
    "### DEFINIÇÃO DAS RETAS\n",
    "\n",
    "\n",
    "\n",
    "### DEFINIÇÃO DAS CURVAS QUADRÁTICAS\n",
    "verts = [(C1_0x, C1_0y), # P0\n",
    "         (C1_1x, C1_1y), # P1\n",
    "         (C1_2x, C1_2y), # P2\n",
    "         \n",
    "         (C6_0x, C6_0y), # P0\n",
    "         (C6_1x, C6_1y), # P1\n",
    "         (C6_2x, C6_2y), # P2\n",
    "         \n",
    "         (C7_0x, C7_0y), # P0\n",
    "         (C7_1x, C7_1y), # P1\n",
    "         (C7_2x, C7_2y), # P2\n",
    "         \n",
    "         (C9_0x, C9_0y), # P0\n",
    "         (C9_1x, C9_1y), # P1\n",
    "         (C9_2x, C9_2y), # P2\n",
    "         \n",
    "         (C10_0x, C10_0y), # P0\n",
    "         (C10_1x, C10_1y), # P1\n",
    "         (C10_2x, C10_2y), # P2\n",
    "         \n",
    "\n",
    "         ]\n",
    "\n",
    "codes = []\n",
    "for i in range(0,len(verts)):\n",
    "#     print (i, end=\" \")\n",
    "    if (i % 3 == 0 or i == 0):\n",
    "        codes.append(Path.MOVETO)\n",
    "#         print(\"a\")\n",
    "    else:\n",
    "        codes.append(Path.CURVE3)\n",
    "#         print(\"b\")\n",
    "\n",
    "        \n",
    "\n",
    "\n",
    "\n",
    "### DEFINIÇÃO DAS CURVAS CÚBICAS\n",
    "\n",
    "cVerts = [(C14_0x, C14_0y), # P0\n",
    "          (C14_1x, C14_1y), # P1\n",
    "          (C14_2x, C14_2y), # P2\n",
    "          (C14_3x, C14_3y)  # P3\n",
    "         ]\n",
    "\n",
    "cCodes = []\n",
    "for i in range(0,len(cVerts)):\n",
    "#     print (i, end=\" \")\n",
    "    if (i % 4 == 0 or i == 0):\n",
    "        cCodes.append(Path.MOVETO)\n",
    "#         print(\"a\")\n",
    "    else:\n",
    "        cCodes.append(Path.CURVE4)\n",
    "#         print(\"b\")\n",
    "          \n",
    "\n",
    "cPath = Path(cVerts, cCodes)\n",
    "\n",
    "#JUNÇÃO DE QUADRÁTICAS E CÚBICAS\n",
    "\n",
    "verts += cVerts\n",
    "codes += cCodes\n",
    "\n",
    "          \n",
    "### DEFINIÇÃO DAS CURVAS\n",
    "\n",
    "# print(codes)\n",
    "\n",
    "path = Path(verts, codes) # build path from vertices & command codes\n"
   ]
  },
  {
   "cell_type": "code",
   "execution_count": 24,
   "metadata": {},
   "outputs": [
    {
     "data": {
      "image/png": "[encoded data removed]",
      "text/plain": [
       "<Figure size 432x288 with 1 Axes>"
      ]
     },
     "metadata": {
      "needs_background": "light"
     },
     "output_type": "display_data"
    }
   ],
   "source": [
    "patch = patches.PathPatch(path, facecolor='none',\n",
    "                         edgecolor='red', lw=2)\n",
    "\n",
    "\n",
    "ax = plt.gca();\n",
    "\n",
    "ax.add_patch(patch)\n",
    "\n",
    "xs, ys = zip(*verts)\n",
    "\n",
    "ax.set_xlim(-.6, 4)\n",
    "ax.set_ylim(-.2, 1.9)\n",
    "ax.set_aspect(1) # 'auto'; 'equal'; number (equal = 1)\n",
    "retasIntervaladas(pontos)\n",
    "plt.show()"
   ]
  },
  {
   "cell_type": "code",
   "execution_count": null,
   "metadata": {},
   "outputs": [],
   "source": []
  },
  {
   "cell_type": "code",
   "execution_count": null,
   "metadata": {},
   "outputs": [],
   "source": []
  }
 ],
 "metadata": {
  "kernelspec": {
   "display_name": "Python 3",
   "language": "python",
   "name": "python3"
  },
  "language_info": {
   "codemirror_mode": {
    "name": "ipython",
    "version": 3
   },
   "file_extension": ".py",
   "mimetype": "text/x-python",
   "name": "python",
   "nbconvert_exporter": "python",
   "pygments_lexer": "ipython3",
   "version": "3.8.3"
  }
 },
 "nbformat": 4,
 "nbformat_minor": 4
}
