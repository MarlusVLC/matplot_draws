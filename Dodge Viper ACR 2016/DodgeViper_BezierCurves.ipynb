{
 "cells": [
  {
   "cell_type": "code",
   "execution_count": 1,
   "metadata": {},
   "outputs": [],
   "source": [
    "import matplotlib\n",
    "import matplotlib.pyplot as plt\n",
    "import numpy as np\n",
    "import matplotlib.path as mpath\n",
    "import matplotlib.patches as patches\n",
    "\n",
    "Path = mpath.Path"
   ]
  },
  {
   "cell_type": "markdown",
   "metadata": {},
   "source": [
    "## -OPERACOES MATEMATICAS/\n",
    "\n",
    "\n"
   ]
  },
  {
   "cell_type": "code",
   "execution_count": 2,
   "metadata": {},
   "outputs": [
    {
     "name": "stdout",
     "output_type": "stream",
     "text": [
      "(801, 10)\n"
     ]
    }
   ],
   "source": [
    "# Soma de vetores\n",
    "# (n,m) + (a,b) = (n+a, n+b)  -> se (n,m) = v1 e (a,b) = v2, então (n+a, n+b) = v1+v2\n",
    "def somaVetor(vet1, vet2):\n",
    "    return tuple(map(lambda a,b: a+b, vet1,vet2))\n",
    "\n",
    "print (somaVetor([800,9],[1,1]))"
   ]
  },
  {
   "cell_type": "code",
   "execution_count": 3,
   "metadata": {},
   "outputs": [
    {
     "name": "stdout",
     "output_type": "stream",
     "text": [
      "(799, 8)\n"
     ]
    }
   ],
   "source": [
    "# Subtração de vetores\n",
    "# (n,m) - (a,b) = (n-a, n-b)  -> se (n,m) = v1 e (a,b) = v2, então (n-a, n-b) = v1-v2\n",
    "def subVetor(vet1, vet2):\n",
    "    return tuple(map(lambda a,b: a-b, vet1,vet2))\n",
    "\n",
    "print (subVetor([800,9],[1,1]))"
   ]
  },
  {
   "cell_type": "code",
   "execution_count": 4,
   "metadata": {},
   "outputs": [
    {
     "name": "stdout",
     "output_type": "stream",
     "text": [
      "(12, 36)\n"
     ]
    }
   ],
   "source": [
    "#Vetor por escalar\n",
    "# (n,m) * (k) = (n*k, m*k)   -> se (n,m) = v1, então (n*k, m*k) = v1*k\n",
    "def prodPorEscalar(vet1, fat):\n",
    "    return tuple(map(lambda a: a*fat, vet1))\n",
    "\n",
    "print (prodPorEscalar([4,12],3))"
   ]
  },
  {
   "cell_type": "code",
   "execution_count": 5,
   "metadata": {},
   "outputs": [
    {
     "data": {
      "text/plain": [
       "(0, 0.8)"
      ]
     },
     "execution_count": 5,
     "metadata": {},
     "output_type": "execute_result"
    }
   ],
   "source": [
    "#Equação Vetorial da Reta\n",
    "# r = Po + (t * u)   <-  Po = (n,m); t = (a,b); u = k.\n",
    "# r = (n,m) + ((a,b)*k)\n",
    "vetReta = lambda p, t: lambda u: somaVetor(p, prodPorEscalar(t,u))\n",
    "\n",
    "vetReta((0, 0.8), (0.2, 0.8))(1)\n",
    "vetReta((0,0.8),(-1,0))(0)\n",
    "    "
   ]
  },
  {
   "cell_type": "code",
   "execution_count": 6,
   "metadata": {},
   "outputs": [
    {
     "data": {
      "text/plain": [
       "<function __main__.<lambda>.<locals>.<lambda>(u)>"
      ]
     },
     "execution_count": 6,
     "metadata": {},
     "output_type": "execute_result"
    }
   ],
   "source": [
    "#Equação Vetorial-Paramétrica da Reta \n",
    "# r = Po + ((t - Po) * u)   <-  Po = (n,m); t = (a,b); u = k.\n",
    "# r = (n,m) + (((a,b)-(n,m))*k)\n",
    "vetRetaP = lambda p, t: lambda u: somaVetor(p, prodPorEscalar(subVetor(t,p),u))\n",
    "\n",
    "vetRetaP((0, 0.8), (0.2, 0.8))\n",
    "vetRetaP((0,0.8),(-1,0))\n",
    " "
   ]
  },
  {
   "cell_type": "markdown",
   "metadata": {},
   "source": [
    "## DEFINIÇÃO DAS FORMAS - CURVS, RETAS, CIRCUNFERÊNCIAS, ELIPSES, ETC. \n",
    "##### A ordem é definida pelos indíces na imagem. "
   ]
  },
  {
   "cell_type": "code",
   "execution_count": 38,
   "metadata": {},
   "outputs": [],
   "source": [
    "### DEFINIÇÃO DOS PONTOS DE CURVAS E RETAS.\n",
    "#######A ORDEM ESTA DESCRITA NA IMAGEM!!!\n",
    "#Conferir a parte à qual pertence do carro pela imagem \"Índice - Carroceria\"\n",
    "\n",
    "#variáveis de prefixo 'r' são retas.\n",
    "    #por exemplo: r2 é reta r2 na imagem.\n",
    "#Variáveis de com prefixo C são curvas.\n",
    "    #por exemplo na variável C7_1x:\n",
    "        #7 é o indíce da curva (definido na imagem)\n",
    "        #1 é a posição do ponto na curva\n",
    "        #1 quer dizer que esse é o ponto do meio da curva; o ponto de controle.\n",
    "            #0 e 2 são, respectivamente, o primeiro e o último ponto da curva\n",
    "            #Normalmente o ponto 1 é relativo ao ponto 0 e 2 ao 1, mas isso pode variar\n",
    "            #Para funções cúbicas (que tem 4 pontos), o valor para seus pontos\n",
    "                #vai de 0 à 3, sendo 0 e 3 as extremidades e 1 e 2 os pontos de controle\n",
    "        #o ultimo elemento da variável pode ser x ou y, referente ao eixo que define o ponto\n",
    "\n",
    "#Parachoque-Traseiro, Baixo - Curva #1\n",
    "C1_0x = 0;          C1_0y = 0;   #Extremidade. Ponto 0 da curva. Seu vetor é (0.0, 0.4)\n",
    "C1_1x = -0.84;        C1_1y = 0.14; #Ponto de controle. Ponto 1 da curva. Afeta a curvatura. Seu vetor é (-0.45,0.6)\n",
    "C1_2x = -1.01;         C1_2y = 0.42; #Extremidade. Ponto 2 da curva. Seu vetor é (-0.5, 0.7)\n",
    "#1\n",
    "\n",
    "r1a = vetRetaP((C1_2x, C1_2y), (-1.087, 0.455))\n",
    "r2 = vetRetaP((r1a(1)), (-1.09, 0.697)) #ParaChoque traseiro #2\n",
    "r3 = vetRetaP(r2(1), (-1.014, 0.797)) #Farol traseiro #3\n",
    "r4 = vetRetaP(r3(1), (-0.909, 1.32)) #Farol traseiro #4\n",
    "r5 = vetRetaP(r4(1), (-1.01, 1.588)) #Acima do farol #5\n",
    "\n",
    "\n",
    "#Base do Aerofólio #6\n",
    "C6_0x = r5(1)[0];     C6_0y = r5(1)[1];\n",
    "C6_1x = -0.747;   C6_1y = 1.465; #As coordenadas desse ponto são relativa ao ponto anterior (C6_0)\n",
    "C6_2x = -0.173;   C6_2y = 1.547;\n",
    "#6\n",
    "\n",
    "#Teto-Lateral - Curva #7\n",
    "C7_0x = C6_2x;        C7_0y = C6_2y;\n",
    "C7_1x = 2.29;         C7_1y = 2.224;\n",
    "C7_2x = 2.82;         C7_2y = 2.08;\n",
    "C7_3x = 3.544;         C7_3y = 1.262 ;\n",
    "#7\n",
    "\n",
    "\n",
    "r8 = vetRetaP((C7_3x, C7_3y), (5, 1.31)) #Capô #8\n",
    "\n",
    "\n",
    "#Capo-Farol Dianterio - Curva #9\n",
    "C9_0x = r8(1)[0];     C9_0y = r8(1)[1];\n",
    "C9_1x = 7.05;         C9_1y = 1.31;\n",
    "C9_2x = 7.67;         C9_2y = 0.477;\n",
    "#9\n",
    "\n",
    "#Parachoque Dianteiro - Curva #10 \n",
    "C10_0x = C9_2x;      C10_0y = C9_2y;\n",
    "C10_1x = 7.523;      C10_1y = 0.38;\n",
    "C10_2x = 7.472;      C10_2y = 0.085;\n",
    "#10\n",
    "\n",
    "\n",
    "# -.1 = -0.1\n",
    "r11 = vetRetaP((C10_2x, C10_2y), (7.72, -0.026))  #Parachoque Dianteiro #11\n",
    "\n",
    "r12 = vetRetaP((r11(1)[0], r11(1)[1]), (7.69, -0.103)) #Parachoque Dianteiro #12\n",
    "\n",
    "# r13 = vetRetaP((r12(1)[0], r12(1)[1]), (-0.5, -0.01)) #Parachoque Dianteiro #13\n",
    "#Parachoque Dianteiro - Curva #13 \n",
    "C13_0x = r12(1)[0];  C13_0y = r12(1)[1]\n",
    "C13_1x = 6.938;      C13_1y = -0.255;\n",
    "C13_2x = 6.798;      C13_2y = -0.15;\n",
    "#13\n",
    "\n",
    "\n",
    "\n",
    "#Paralama dianteiro - Curva (Cúbica) #14\n",
    "C14_0x = C13_2x;      C14_0y = C13_2y;\n",
    "C14_1x = 7.014;       C14_1y = 1.241;\n",
    "C14_2x = 5.036;       C14_2y = 1.364;\n",
    "C14_3x = 5.227;       C14_3y = -0.203;  #Alinhado com a interseção entra a reta 8 e a curva 9 (meio do capô)\n",
    "#14\n",
    "\n",
    "\n",
    "#reta r15 #Saia lateral\n",
    "r15 = vetRetaP((C14_3x, C14_3y), (2.342, -0.118))\n",
    "\n",
    "\n",
    "\n",
    "#Saia lateral #Curva #16\n",
    "C16_0x = r15(1)[0];    C16_0y = r15(1)[1];\n",
    "C16_1x = 2.176;        C16_1y = 0.174;\n",
    "C16_2x = 1.597;        C16_2y = 0.159;\n",
    "#16\n",
    "\n",
    "#Paralama traseiro - Curva (Cúbica) # 17\n",
    "C17_0x = C16_2x;       C17_0y = C16_2y;\n",
    "C17_1x = 1.575;        C17_1y = 1.45;\n",
    "C17_2x = -0.182;       C17_2y = 1.32;\n",
    "C17_3x = 0;            C17_3y = 0;\n",
    "#17\n",
    "\n",
    "\n",
    "\n",
    "\n",
    "#Roda Traseira <Eixo> - Circunferência #18\n",
    "Circ18_X = 0.78;   Circ18_Y = 0.3198  ;\n",
    "Circ18_R = 0.0565 ;    Circ18_lw = 1;\n",
    "#18\n",
    "\n",
    "#Pneu Traseiro - Circunferência # 19\n",
    "Circ19_X = Circ18_X;   Circ19_Y = Circ18_Y  ;\n",
    "Circ19_R = 0.632 ;    Circ19_lw = 4;\n",
    "#19 - AUMENTAR A ESPESSURA NA HORA DE PLOTAR\n",
    "\n",
    "#Roda Dianteira <Eixo> - Circunferência #20\n",
    "Circ20_X = 6.01;   Circ20_Y = 0.2204  ;\n",
    "Circ20_R = 0.0554 ;    Circ20_lw = 1;\n",
    "#20\n",
    "\n",
    "#Pneu Dianteiro - Circunferência #21\n",
    "Circ21_X = 6.01;   Circ21_Y = 0.2204  ;\n",
    "Circ21_R = 0.5991 ;    Circ21_lw = 4;\n",
    "#21\n",
    "\n",
    "\n",
    "\n",
    "\n",
    "\n",
    "#Lanterna Traseira <Baixo> - Curva #22\n",
    "C22_0x = -0.497;       C22_0y = 0.917;\n",
    "C22_1x = -0.772;        C22_1y = 0.905;\n",
    "C22_2x = -0.981;       C22_2y = 0.9583;\n",
    "#22\n",
    "\n",
    "#Lanterna Traseira <Frente> - Curva #23\n",
    "C23_0x = C22_0x;       C23_0y = C22_0y;\n",
    "C23_1x = -0.39;       C23_1y = 1.18;\n",
    "C23_2x = -0.915;       C23_2y = 1.295;\n",
    "#23\n",
    "\n",
    "#Para-choque para Para-lama Traseiro - Curva #24\n",
    "C24_0x = -1.106;       C24_0y = 0.698;\n",
    "C24_1x = -0.517;       C24_1y = 0.528;\n",
    "C24_2x = -0.054;       C24_2y = 0.528;\n",
    "#24\n",
    "\n",
    "#Para-choque para lanterna Traseiro - Curva #25\n",
    "C25_0x = -0.838;       C25_0y = 0.624;\n",
    "C25_1x = -0.532;       C25_1y = 0.624;\n",
    "C25_2x = C22_0x;       C25_2y = C22_0y;\n",
    "#25\n",
    "\n",
    "#Farol traseiro para base base do aerofólio - Curva #26\n",
    "C26_0x = C22_0x;       C26_0y = C22_0y;\n",
    "C26_1x = -0.283;       C26_1y = 1.158;\n",
    "C26_2x = -0.922;       C26_2y = 1.547;\n",
    "#26\n",
    "\n",
    "#Farol traseiro - Interno baixo - Curva #27\n",
    "C27_0x = -0.973;       C27_0y = 1.03;\n",
    "C27_1x = -0.785;       C27_1y = 0.966;\n",
    "C27_2x = -0.577;       C27_2y = 0.984;\n",
    "#27\n",
    "\n",
    "#Farol traseiro - Interno alto - Curva #28\n",
    "C28_0x = C27_2x;       C28_0y = C27_2y;\n",
    "C28_1x = -0.456;       C28_1y = 1.14;\n",
    "C28_2x = -0.929;       C28_2y = 1.261;\n",
    "#28\n",
    "\n",
    "\n",
    "\n",
    "r29 = vetRetaP((C16_2x, C16_2y), (C16_2x, -0.284))      #Escapamento lateral <prox a roda> - Reta #29\n",
    "r30 = vetRetaP((r29(1)[0], r29(1)[1]), (1.825, -0.151))  #Escapamento lateral <inclinado> - Reta #30\n",
    "r31 = vetRetaP((r30(1)[0], r30(1)[1]), (2.312, r30(1)[1]))   #Escapamento lateral <inclinado> - Reta #31\n",
    "\n",
    "\n",
    "r32 = vetRetaP((6.638, 0.99), (7.196, 0.665)) #Farol dianteiro <trás> - Reta #32\n",
    "r33 = vetRetaP((r32(1)[0], r32(1)[1]), (7.408, 0.619)) #Farol dianteiro <baixo> - Reta #33\n",
    "\n",
    "#Farol dianteio - Frente/Fechamento - Curva # 34\n",
    "C34_0x = r33(1)[0];    C34_0y = r33(1)[1];\n",
    "C34_1x = 6.951;       C34_1y = 1.075;\n",
    "C34_2x = r32(0)[0];       C34_2y = r32(0)[1];\n",
    "#34\n",
    "\n",
    "#Suave debaixo da porta - Esquerda - Curva #35\n",
    "C35_0x = 1.927;    C35_0y = 0.296;\n",
    "C35_1x = 1.7026;       C35_1y = 0.299;\n",
    "C35_2x = 1.927;       C35_2y = 0.296;\n",
    "#35\n",
    "\n",
    "#Suave debaixo da porta - Baixo - Curva #36\n",
    "\n",
    "#36\n",
    "\n",
    "\n",
    "\n",
    "### DEFINIÇÃO DOS PONTOS DE CURVAS E RETAS. \n",
    "\n"
   ]
  },
  {
   "cell_type": "markdown",
   "metadata": {},
   "source": [
    "## ORGANIZACÃO DAS RETAS PARA PLOTAGEM"
   ]
  },
  {
   "cell_type": "code",
   "execution_count": 78,
   "metadata": {},
   "outputs": [],
   "source": [
    "### DEFINIÇÃO DAS RETAS\n",
    "\n",
    "pontos = [r1a,r2,r3,r4,r5,r8,r11, r12, r15, r29, r30, r31, r32, r33] #Lista com todas as retas --- Coloque a variável das retas aqui.\n",
    "stroke = [1  , 1, 1, 1, 1, 1,  1,   1,   1,   1,   1,   1,   1,   1] #espessura das retas, uma pra cada reta --- essa lista precisa ter o mesmo tamanho de pontos.\n",
    "\n",
    "#Função que desenha os pontos da reta. Itera sobre a lista dada e plota cada uma das retas.\n",
    "def retasIntervaladas(pontos): \n",
    "    for r in pontos:\n",
    "        plt.plot([r(0)[0], r(1)[0]],\n",
    "                [r(0)[1], r(1)[1]],\n",
    "                color = 'r', lw=1.5)\n",
    "        \n",
    "\n",
    "\n",
    "\n",
    "\n",
    "\n",
    "        \n",
    "\n",
    "\n",
    "\n",
    "\n"
   ]
  },
  {
   "cell_type": "markdown",
   "metadata": {},
   "source": [
    "## ORGANIZAÇÃO DAS CURVAS QUADRÁTICAS PARA PLOTAGEM"
   ]
  },
  {
   "cell_type": "code",
   "execution_count": 79,
   "metadata": {},
   "outputs": [],
   "source": [
    "### DEFINIÇÃO DAS CURVAS QUADRÁTICAS\n",
    "verts = [(C1_0x, C1_0y), # P0\n",
    "         (C1_1x, C1_1y), # P1\n",
    "         (C1_2x, C1_2y), # P2\n",
    "         \n",
    "         (C6_0x, C6_0y), # P0\n",
    "         (C6_1x, C6_1y), # P1\n",
    "         (C6_2x, C6_2y), # P2\n",
    "         \n",
    "         (C9_0x, C9_0y), # P0\n",
    "         (C9_1x, C9_1y), # P1\n",
    "         (C9_2x, C9_2y), # P2\n",
    "         \n",
    "         (C10_0x, C10_0y), # P0\n",
    "         (C10_1x, C10_1y), # P1\n",
    "         (C10_2x, C10_2y), # P2\n",
    "         \n",
    "         (C13_0x, C13_0y), # P0\n",
    "         (C13_1x, C13_1y), # P1\n",
    "         (C13_2x, C13_2y), # P2\n",
    "         \n",
    "         (C16_0x, C16_0y), # P0\n",
    "         (C16_1x, C16_1y), # P1\n",
    "         (C16_2x, C16_2y), # P2\n",
    "         \n",
    "         (C22_0x, C22_0y), # P0\n",
    "         (C22_1x, C22_1y), # P1\n",
    "         (C22_2x, C22_2y), # P2\n",
    "         \n",
    "         (C23_0x, C23_0y), # P0\n",
    "         (C23_1x, C23_1y), # P1\n",
    "         (C23_2x, C23_2y), # P2\n",
    "        \n",
    "         (C25_0x, C25_0y), # P0\n",
    "         (C25_1x, C25_1y), # P1\n",
    "         (C25_2x, C25_2y), # P2\n",
    "         \n",
    "         (C26_0x, C26_0y), # P0\n",
    "         (C26_1x, C26_1y), # P1\n",
    "         (C26_2x, C26_2y), # P2\n",
    "         \n",
    "         (C27_0x, C27_0y), # P0\n",
    "         (C27_1x, C27_1y), # P1\n",
    "         (C27_2x, C27_2y), # P2\n",
    "         \n",
    "         (C28_0x, C28_0y), # P0\n",
    "         (C28_1x, C28_1y), # P1\n",
    "         (C28_2x, C28_2y), # P2\n",
    "         \n",
    "         (C34_0x, C34_0y), # P0\n",
    "         (C34_1x, C34_1y), # P1\n",
    "         (C34_2x, C34_2y), # P2\n",
    "         ] #Para a curva ser desenhada, seus pontos devem ser colocados nesta lista\n",
    "            #Coloque somente curvas quadradas (que tem 3 pontos)\n",
    "\n",
    "#Codes é uma lista de instruções do que fazer com cada ponto de verts\n",
    "codes = []\n",
    "for i in range(0,len(verts)):   #Essa função cria uma lista de codes baseado no tamanho de verts\n",
    "#     print (i, end=\" \")\n",
    "    if (i % 3 == 0 or i == 0):\n",
    "        codes.append(Path.MOVETO)\n",
    "#         print(\"a\")\n",
    "    else:\n",
    "        codes.append(Path.CURVE3)\n",
    "#         print(\"b\")\n"
   ]
  },
  {
   "cell_type": "markdown",
   "metadata": {},
   "source": [
    "## ORGANIZAÇÃO DAS CURVAS QUADRÁTICAS suaves PARA PLOTAGEM\n",
    "#### Curvas suaves, que não contrastam tão nitidamente. Curvas nas laterais do carro, por exemplo.\n"
   ]
  },
  {
   "cell_type": "code",
   "execution_count": 80,
   "metadata": {},
   "outputs": [],
   "source": [
    "### DEFINIÇÃO DAS CURVAS QUADRÁTICAS SUAVES \n",
    "\n",
    "#Lista somente com curvas quadráticas de menor destaque/suaves - Essencialmente o que muda é a espessura da linha, que é \n",
    "#menor que as outras\n",
    "sVerts = [         #s vem de smooth   \n",
    "         (C24_0x, C24_0y), # P0\n",
    "         (C24_1x, C24_1y), # P1\n",
    "         (C24_2x, C24_2y), # P2\n",
    "         ]\n",
    "\n",
    "sCodes = []\n",
    "for i in range(0,len(sVerts)):\n",
    "#     print (i, end=\" \")\n",
    "    if (i % 3 == 0 or i == 0):\n",
    "        sCodes.append(Path.MOVETO)\n",
    "#         print(\"a\")\n",
    "    else:\n",
    "        sCodes.append(Path.CURVE3)\n",
    "#         print(\"b\")\n",
    "          \n",
    "\n",
    "sPath = Path(sVerts, sCodes)\n",
    "\n",
    "# Essa lista é indpendente da outra. Funciona separada, é desenhada separadamente."
   ]
  },
  {
   "cell_type": "markdown",
   "metadata": {},
   "source": [
    "## ORGANIZAÇÃO DAS CURVAS CÚBICAS"
   ]
  },
  {
   "cell_type": "code",
   "execution_count": 81,
   "metadata": {},
   "outputs": [],
   "source": [
    "### DEFINIÇÃO DAS CURVAS CÚBICAS\n",
    "\n",
    "#Lista somente com curvas cúbicas (de 4 pontos). Segue o mesmo padrão das quadráticas.\n",
    "cVerts = [         \n",
    "          (C7_0x, C7_0y), # P0\n",
    "          (C7_1x, C7_1y), # P1\n",
    "          (C7_2x, C7_2y), # P2\n",
    "          (C7_3x, C7_3y), # P3\n",
    "    \n",
    "          (C14_0x, C14_0y), # P0\n",
    "          (C14_1x, C14_1y), # P1\n",
    "          (C14_2x, C14_2y), # P2\n",
    "          (C14_3x, C14_3y),  # P3\n",
    "          \n",
    "          (C17_0x, C17_0y), # P0\n",
    "          (C17_1x, C17_1y), # P1\n",
    "          (C17_2x, C17_2y), # P2\n",
    "          (C17_3x, C17_3y),  # P3\n",
    "         ]\n",
    "\n",
    "cCodes = []\n",
    "for i in range(0,len(cVerts)):\n",
    "#     print (i, end=\" \")\n",
    "    if (i % 4 == 0 or i == 0):\n",
    "        cCodes.append(Path.MOVETO)\n",
    "#         print(\"a\")\n",
    "    else:\n",
    "        cCodes.append(Path.CURVE4)\n",
    "#         print(\"b\")\n",
    "          \n",
    "\n",
    "cPath = Path(cVerts, cCodes)\n",
    "\n",
    "#JUNÇÃO DE QUADRÁTICAS E CÚBICAS\n",
    "\n",
    "verts += cVerts #Junta a lista de cúbicas com a de quadráticas\n",
    "codes += cCodes #Junt os comandos de quadráticas com as de cúbicas\n",
    "\n",
    "          \n",
    "### DEFINIÇÃO DAS CURVAS\n",
    "\n",
    "\n",
    "# print(codes)\n",
    "\n",
    "path = Path(verts, codes) # constroi o caminho das retas à partir dos vertices e dos comandos."
   ]
  },
  {
   "cell_type": "markdown",
   "metadata": {},
   "source": [
    "## ORGANIZAÇÃO DAS CIRCUNFERÊNCIAS"
   ]
  },
  {
   "cell_type": "code",
   "execution_count": 82,
   "metadata": {},
   "outputs": [],
   "source": [
    "### DEFINIÇÃO DAS CIRCUNFERÊNCIAS\n",
    "\n",
    "circ = [[Circ18_X, Circ18_Y, Circ18_R, Circ18_lw],\n",
    "          [Circ19_X, Circ19_Y, Circ19_R, Circ19_lw],\n",
    "          [Circ20_X, Circ20_Y, Circ20_R, Circ20_lw],\n",
    "          [Circ21_X, Circ21_Y, Circ21_R, Circ21_lw],]\n",
    "\n",
    "def desenhaCircunferencias(circ):\n",
    "    for i in circ:\n",
    "        draw_circle = plt.Circle((i[0],i[1]), i[2], fill=False, lw=i[3])\n",
    "        ax.add_artist(draw_circle)"
   ]
  },
  {
   "cell_type": "markdown",
   "metadata": {},
   "source": [
    "## PLOTAGEM DOS GRÁFICOS"
   ]
  },
  {
   "cell_type": "code",
   "execution_count": 83,
   "metadata": {},
   "outputs": [
    {
     "data": {
      "image/png": "[encoded data removed]",
      "text/plain": [
       "<Figure size 432x288 with 1 Axes>"
      ]
     },
     "metadata": {
      "needs_background": "light"
     },
     "output_type": "display_data"
    }
   ],
   "source": [
    "#Define características dos gráficos.\n",
    "#path define uma segmentação à partir de pontos.\n",
    "#facecolor define uma cor para à area das funcões\n",
    "#edgecolor define uma cor para as linhas.\n",
    "#lw é line-weight. Define a espessura das linhas\n",
    "patch = patches.PathPatch(path, facecolor='none',\n",
    "                         edgecolor='red', lw=1.5)\n",
    "\n",
    "sPatch = patches.PathPatch(sPath, facecolor='none',\n",
    "                          edgecolor='red', lw=0.5)\n",
    "\n",
    "\n",
    "ax = plt.gca();\n",
    "\n",
    "ax.add_patch(patch)\n",
    "\n",
    "ax.add_patch(sPatch)\n",
    "\n",
    "#xs, ys = zip(*verts)\n",
    "\n",
    "###########\n",
    "\n",
    "# figure, axes = plt.subplots()\n",
    "# draw_circle = plt.Circle((0.5,0.5), 0.3, fill=False, lw='3')\n",
    "\n",
    "##########\n",
    "\n",
    "ax.set_xlim(-2, 8) #Define os limites no eixo x do gráfico. \n",
    "ax.set_ylim(-0.5, 3) #Define os limites no ixo y do gráfico.\n",
    "ax.set_aspect(1) # 'auto'; 'equal'; number (equal = 1)\n",
    "# plt.plot([0,0], [2, 2], color = 'k')\n",
    "\n",
    "retasIntervaladas(pontos)\n",
    "desenhaCircunferencias(circ)\n",
    "# ax.add_artist(draw_circle)\n",
    "\n",
    "\n",
    "\n",
    "plt.show()"
   ]
  },
  {
   "cell_type": "code",
   "execution_count": null,
   "metadata": {},
   "outputs": [],
   "source": []
  }
 ],
 "metadata": {
  "kernelspec": {
   "display_name": "Python 3",
   "language": "python",
   "name": "python3"
  },
  "language_info": {
   "codemirror_mode": {
    "name": "ipython",
    "version": 3
   },
   "file_extension": ".py",
   "mimetype": "text/x-python",
   "name": "python",
   "nbconvert_exporter": "python",
   "pygments_lexer": "ipython3",
   "version": "3.8.3"
  }
 },
 "nbformat": 4,
 "nbformat_minor": 4
}
